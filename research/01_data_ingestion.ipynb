{
 "cells": [
  {
   "cell_type": "code",
   "execution_count": 1,
   "metadata": {},
   "outputs": [],
   "source": [
    "import os"
   ]
  },
  {
   "cell_type": "code",
   "execution_count": 2,
   "metadata": {},
   "outputs": [],
   "source": [
    "!conda activate textS"
   ]
  },
  {
   "cell_type": "code",
   "execution_count": 3,
   "metadata": {},
   "outputs": [
    {
     "data": {
      "text/plain": [
       "'d:\\\\August23_restarted\\\\text summurization\\\\Text-Summarization\\\\research'"
      ]
     },
     "execution_count": 3,
     "metadata": {},
     "output_type": "execute_result"
    }
   ],
   "source": [
    "%pwd"
   ]
  },
  {
   "cell_type": "code",
   "execution_count": 4,
   "metadata": {},
   "outputs": [],
   "source": [
    "os.chdir(\"../\")"
   ]
  },
  {
   "cell_type": "code",
   "execution_count": 26,
   "metadata": {},
   "outputs": [
    {
     "data": {
      "text/plain": [
       "'d:\\\\August23_restarted\\\\text summurization\\\\Text-Summarization'"
      ]
     },
     "execution_count": 26,
     "metadata": {},
     "output_type": "execute_result"
    }
   ],
   "source": [
    "%pwd"
   ]
  },
  {
   "cell_type": "code",
   "execution_count": 27,
   "metadata": {},
   "outputs": [],
   "source": [
    "from dataclasses import dataclass\n",
    "from pathlib import Path\n",
    "\n",
    "@dataclass(frozen=True)\n",
    "class DataIngestionConfig:\n",
    "    root_dir: Path\n",
    "    source_URL: str\n",
    "    local_data_file: Path\n",
    "    unzip_dir: Path\n",
    "    "
   ]
  },
  {
   "cell_type": "code",
   "execution_count": 8,
   "metadata": {},
   "outputs": [
    {
     "name": "stdout",
     "output_type": "stream",
     "text": [
      "Requirement already satisfied: TextSummarizer in d:\\anaconda\\restarted anaconda python\\envs\\texts\\lib\\site-packages (1.0.0)\n",
      "Requirement already satisfied: pyyaml in d:\\anaconda\\restarted anaconda python\\envs\\texts\\lib\\site-packages (6.0.1)\n",
      "Requirement already satisfied: ensure in d:\\anaconda\\restarted anaconda python\\envs\\texts\\lib\\site-packages (1.0.3)\n",
      "Requirement already satisfied: six>=1.11.0 in c:\\users\\admin\\appdata\\roaming\\python\\python38\\site-packages (from ensure) (1.15.0)\n",
      "Requirement already satisfied: python-box in d:\\anaconda\\restarted anaconda python\\envs\\texts\\lib\\site-packages (7.1.1)\n"
     ]
    }
   ],
   "source": [
    "!pip install TextSummarizer \n",
    "!pip install pyyaml\n",
    "!pip install ensure\n",
    "!pip install python-box"
   ]
  },
  {
   "cell_type": "code",
   "execution_count": 10,
   "metadata": {},
   "outputs": [],
   "source": [
    "from src.TextSummarizer.constants import *\n",
    "from src.TextSummarizer.utils.common import read_yaml, create_directories"
   ]
  },
  {
   "cell_type": "code",
   "execution_count": 28,
   "metadata": {},
   "outputs": [],
   "source": [
    "class ConfigurationManager:\n",
    "    def __init__(\n",
    "        self,\n",
    "        config_filepath = CONFIG_FILE_PATH,\n",
    "        params_filepath = PARAMS_FILE_PATH):\n",
    "\n",
    "        self.config = read_yaml(config_filepath)\n",
    "        self.params = read_yaml(params_filepath)\n",
    "\n",
    "        create_directories([self.config.artifacts_root])\n",
    "\n",
    "    \n",
    "\n",
    "    def get_data_ingestion_config(self) -> DataIngestionConfig:\n",
    "        config = self.config.data_ingestion\n",
    "\n",
    "        create_directories([config.root_dir])\n",
    "\n",
    "        data_ingestion_config = DataIngestionConfig(\n",
    "            root_dir=config.root_dir,\n",
    "            source_URL=config.source_URL,\n",
    "            local_data_file=config.local_data_file,\n",
    "            unzip_dir=config.unzip_dir \n",
    "        )\n",
    "\n",
    "        return data_ingestion_config"
   ]
  },
  {
   "cell_type": "code",
   "execution_count": 12,
   "metadata": {},
   "outputs": [],
   "source": [
    "#to create components\n",
    "import os\n",
    "import urllib.request as request\n",
    "import zipfile\n",
    "from src.TextSummarizer.logging import logger\n",
    "from src.TextSummarizer.utils.common import get_size\n"
   ]
  },
  {
   "cell_type": "code",
   "execution_count": 13,
   "metadata": {},
   "outputs": [
    {
     "name": "stdout",
     "output_type": "stream",
     "text": [
      "Requirement already satisfied: py7zr in d:\\anaconda\\restarted anaconda python\\envs\\texts\\lib\\site-packages (0.20.6)\n",
      "Requirement already satisfied: texttable in d:\\anaconda\\restarted anaconda python\\envs\\texts\\lib\\site-packages (from py7zr) (1.6.7)\n",
      "Requirement already satisfied: pycryptodomex>=3.6.6 in d:\\anaconda\\restarted anaconda python\\envs\\texts\\lib\\site-packages (from py7zr) (3.18.0)\n",
      "Requirement already satisfied: pyzstd>=0.14.4 in d:\\anaconda\\restarted anaconda python\\envs\\texts\\lib\\site-packages (from py7zr) (0.15.9)\n",
      "Requirement already satisfied: pyppmd<1.1.0,>=0.18.1 in d:\\anaconda\\restarted anaconda python\\envs\\texts\\lib\\site-packages (from py7zr) (1.0.0)\n",
      "Requirement already satisfied: pybcj>=0.6.0 in d:\\anaconda\\restarted anaconda python\\envs\\texts\\lib\\site-packages (from py7zr) (1.0.1)\n",
      "Requirement already satisfied: multivolumefile>=0.2.3 in d:\\anaconda\\restarted anaconda python\\envs\\texts\\lib\\site-packages (from py7zr) (0.2.3)\n",
      "Requirement already satisfied: brotli>=1.0.9 in d:\\anaconda\\restarted anaconda python\\envs\\texts\\lib\\site-packages (from py7zr) (1.0.9)\n",
      "Requirement already satisfied: inflate64>=0.3.1 in d:\\anaconda\\restarted anaconda python\\envs\\texts\\lib\\site-packages (from py7zr) (0.3.1)\n",
      "Requirement already satisfied: psutil in d:\\anaconda\\restarted anaconda python\\envs\\texts\\lib\\site-packages (from py7zr) (5.9.0)\n"
     ]
    }
   ],
   "source": [
    "!pip install py7zr\n",
    "import py7zr"
   ]
  },
  {
   "cell_type": "code",
   "execution_count": 29,
   "metadata": {},
   "outputs": [],
   "source": [
    "class DataIngestion:\n",
    "    def __init__(self, config: DataIngestionConfig):\n",
    "        self.config = config\n",
    "\n",
    "    def download_file(self):\n",
    "        if not os.path.exists(self.config.local_data_file):\n",
    "            filename, headers = request.urlretrieve(\n",
    "                url = self.config.source_URL,\n",
    "                filename = self.config.local_data_file\n",
    "            )\n",
    "            logger.info(f\"{filename} download! with following info: \\n{headers}\")\n",
    "        else:\n",
    "            logger.info(f\"File already exists of size: {get_size(Path(self.config.local_data_file))}\")  \n",
    "\n",
    "        \n",
    "    \n",
    "    def extract_zip_file(self):\n",
    "        \"\"\"\n",
    "        zip_file_path: str\n",
    "        Extracts the zip file into the data directory\n",
    "        Function returns None\n",
    "        \"\"\"\n",
    "        unzip_path = self.config.unzip_dir\n",
    "        os.makedirs(unzip_path, exist_ok=True)\n",
    "        with zipfile.ZipFile(self.config.local_data_file, 'r') as zip_ref:\n",
    "            zip_ref.extractall(unzip_path)\n",
    "        \n",
    "        #with py7zr.SevenZipFile(self.config.local_data_file, 'r') as zip_ref:\n",
    "            #zip_ref.extractall(unzip_path)"
   ]
  },
  {
   "cell_type": "code",
   "execution_count": 31,
   "metadata": {},
   "outputs": [
    {
     "name": "stdout",
     "output_type": "stream",
     "text": [
      "[2023-09-08 11:32:12,717: INFO: common: yaml file: config\\config.yaml loaded successfully]\n",
      "[2023-09-08 11:32:12,720: INFO: common: yaml file: params.yaml loaded successfully]\n",
      "[2023-09-08 11:32:12,723: INFO: common: created directory at: artifacts]\n",
      "[2023-09-08 11:32:12,723: INFO: common: created directory at: artifacts/data_ingestion]\n",
      "[2023-09-08 11:32:18,687: INFO: 3986214016: artifacts/data_ingestion/data.zip download! with following info: \n",
      "Connection: close\n",
      "Content-Length: 7903594\n",
      "Cache-Control: max-age=300\n",
      "Content-Security-Policy: default-src 'none'; style-src 'unsafe-inline'; sandbox\n",
      "Content-Type: application/zip\n",
      "ETag: \"dbc016a060da18070593b83afff580c9b300f0b6ea4147a7988433e04df246ca\"\n",
      "Strict-Transport-Security: max-age=31536000\n",
      "X-Content-Type-Options: nosniff\n",
      "X-Frame-Options: deny\n",
      "X-XSS-Protection: 1; mode=block\n",
      "X-GitHub-Request-Id: 2016:185409:18A0D4:235545:64FAB8B1\n",
      "Accept-Ranges: bytes\n",
      "Date: Fri, 08 Sep 2023 06:01:36 GMT\n",
      "Via: 1.1 varnish\n",
      "X-Served-By: cache-bom4730-BOM\n",
      "X-Cache: MISS\n",
      "X-Cache-Hits: 0\n",
      "X-Timer: S1694152896.038493,VS0,VE729\n",
      "Vary: Authorization,Accept-Encoding,Origin\n",
      "Access-Control-Allow-Origin: *\n",
      "Cross-Origin-Resource-Policy: cross-origin\n",
      "X-Fastly-Request-ID: f61bc36911f972ccbbdd2577b97174c4b7bade85\n",
      "Expires: Fri, 08 Sep 2023 06:06:36 GMT\n",
      "Source-Age: 0\n",
      "\n",
      "]\n"
     ]
    }
   ],
   "source": [
    "# create pipiline\n",
    "\n",
    "try:\n",
    "    config = ConfigurationManager()\n",
    "    data_ingestion_config = config.get_data_ingestion_config()\n",
    "    data_ingestion = DataIngestion(config=data_ingestion_config)\n",
    "    data_ingestion.download_file()\n",
    "    data_ingestion.extract_zip_file()\n",
    "except Exception as e:\n",
    "    raise e"
   ]
  }
 ],
 "metadata": {
  "kernelspec": {
   "display_name": "textS",
   "language": "python",
   "name": "python3"
  },
  "language_info": {
   "codemirror_mode": {
    "name": "ipython",
    "version": 3
   },
   "file_extension": ".py",
   "mimetype": "text/x-python",
   "name": "python",
   "nbconvert_exporter": "python",
   "pygments_lexer": "ipython3",
   "version": "3.8.17"
  },
  "orig_nbformat": 4
 },
 "nbformat": 4,
 "nbformat_minor": 2
}
